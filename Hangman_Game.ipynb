{
  "nbformat": 4,
  "nbformat_minor": 0,
  "metadata": {
    "colab": {
      "provenance": [],
      "authorship_tag": "ABX9TyOo44nDPEsYQaH6bLP9Qg25",
      "include_colab_link": true
    },
    "kernelspec": {
      "name": "python3",
      "display_name": "Python 3"
    },
    "language_info": {
      "name": "python"
    }
  },
  "cells": [
    {
      "cell_type": "markdown",
      "metadata": {
        "id": "view-in-github",
        "colab_type": "text"
      },
      "source": [
        "<a href=\"https://colab.research.google.com/github/KatiaGodinez/Artificial_Intelligence/blob/main/Hangman_Game.ipynb\" target=\"_parent\"><img src=\"https://colab.research.google.com/assets/colab-badge.svg\" alt=\"Open In Colab\"/></a>"
      ]
    },
    {
      "cell_type": "code",
      "execution_count": 2,
      "metadata": {
        "id": "or3BiOySTLjm"
      },
      "outputs": [],
      "source": [
        "import random\n",
        "\n",
        "# List of words for the game\n",
        "word_list = [\"apple\", \"banana\", \"cherry\", \"dog\", \"cat\", \"pig\", \"grape\", \"honey\", \"kiwi\", \"lemon\", \"watermelon\", \"fish\", \"love\", \"money\", \"car\"]\n"
      ]
    },
    {
      "cell_type": "code",
      "source": [
        "# Function to choose a random word from the list\n",
        "def choose_word():\n",
        "    return random.choice(word_list)"
      ],
      "metadata": {
        "id": "f3hYiPGBUFRb"
      },
      "execution_count": 3,
      "outputs": []
    },
    {
      "cell_type": "code",
      "source": [
        "# Function to display the current state of the word\n",
        "def display_word(word, guessed_letters):\n",
        "    display = \"\"\n",
        "    for letter in word:\n",
        "        if letter in guessed_letters:\n",
        "            display += letter\n",
        "        else:\n",
        "            display += \"_\"\n",
        "    return display"
      ],
      "metadata": {
        "id": "ey2ap3J3UMg5"
      },
      "execution_count": 4,
      "outputs": []
    },
    {
      "cell_type": "code",
      "source": [
        "def play_hangman():\n",
        "    word = choose_word()\n",
        "    guessed_letters = []\n",
        "    attempts = 6  # Number of attempts allowed\n",
        "\n",
        "    print(\"Welcome to Hangman!\")\n",
        "    print(\"You have\", attempts, \"attempts to guess the word.\")\n",
        "    print(display_word(word, guessed_letters))\n",
        "\n",
        "    while True:\n",
        "        guess = input(\"Guess a letter: \").lower()\n",
        "        if len(guess) != 1 or not guess.isalpha():\n",
        "            print(\"Please enter a single letter.\")\n",
        "            continue\n",
        "\n",
        "        if guess in guessed_letters:\n",
        "            print(\"You've already guessed that letter.\")\n",
        "            continue\n",
        "\n",
        "        guessed_letters.append(guess)\n",
        "        if guess in word:\n",
        "            print(\"Good guess!\")\n",
        "        else:\n",
        "            print(\"Incorrect guess.\")\n",
        "            attempts -= 1\n",
        "        print(display_word(word, guessed_letters))\n",
        "\n",
        "        if \"_\" not in display_word(word, guessed_letters):\n",
        "            print(\"Congratulations! You've guessed the word:\", word)\n",
        "            break\n",
        "\n",
        "        if attempts == 0:\n",
        "            print(\"You've run out of attempts. The word was:\", word)\n",
        "            break\n",
        "\n"
      ],
      "metadata": {
        "id": "QRsX6HkEUQBG"
      },
      "execution_count": 5,
      "outputs": []
    },
    {
      "cell_type": "code",
      "source": [
        "if __name__ == \"__main__\":\n",
        "    play_hangman()"
      ],
      "metadata": {
        "colab": {
          "base_uri": "https://localhost:8080/"
        },
        "id": "dYwS6GlUUeHB",
        "outputId": "3a17f5fa-91d8-4350-80cd-f1605026c5c4"
      },
      "execution_count": 7,
      "outputs": [
        {
          "output_type": "stream",
          "name": "stdout",
          "text": [
            "Welcome to Hangman!\n",
            "You have 6 attempts to guess the word.\n",
            "___\n",
            "Guess a letter: a\n",
            "Good guess!\n",
            "_a_\n",
            "Guess a letter: r\n",
            "Incorrect guess.\n",
            "_a_\n",
            "Guess a letter: t\n",
            "Good guess!\n",
            "_at\n",
            "Guess a letter: c\n",
            "Good guess!\n",
            "cat\n",
            "Congratulations! You've guessed the word: cat\n"
          ]
        }
      ]
    }
  ]
}