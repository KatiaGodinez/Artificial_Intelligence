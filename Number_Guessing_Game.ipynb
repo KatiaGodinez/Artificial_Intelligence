{
  "nbformat": 4,
  "nbformat_minor": 0,
  "metadata": {
    "colab": {
      "provenance": [],
      "authorship_tag": "ABX9TyM/pQy/4ckvcZBrOicv+4c6",
      "include_colab_link": true
    },
    "kernelspec": {
      "name": "python3",
      "display_name": "Python 3"
    },
    "language_info": {
      "name": "python"
    }
  },
  "cells": [
    {
      "cell_type": "markdown",
      "metadata": {
        "id": "view-in-github",
        "colab_type": "text"
      },
      "source": [
        "<a href=\"https://colab.research.google.com/github/KatiaGodinez/Artificial_Intelligence/blob/main/Number_Guessing_Game.ipynb\" target=\"_parent\"><img src=\"https://colab.research.google.com/assets/colab-badge.svg\" alt=\"Open In Colab\"/></a>"
      ]
    },
    {
      "cell_type": "code",
      "source": [
        "import random\n",
        "\n",
        "# Generate a random number between 1 and 100\n",
        "target_number = random.randint(1, 100)"
      ],
      "metadata": {
        "id": "sKb629EsEXFG"
      },
      "execution_count": 2,
      "outputs": []
    },
    {
      "cell_type": "code",
      "source": [
        "# Initialize variables\n",
        "attempts = 0\n",
        "guessed_number = None\n",
        "\n",
        "print(\"Welcome to the Number Guessing Game!\")\n",
        "print(\"I've chosen a number between 1 and 100. Try to guess it.\")\n",
        "\n",
        "while guessed_number != target_number:\n",
        "    try:\n",
        "        # Get user input for their guess\n",
        "        guessed_number = int(input(\"Enter your guess: \"))\n",
        "        attempts += 1\n",
        "\n",
        "        # Check if the guess is correct\n",
        "        if guessed_number == target_number:\n",
        "            print(f\"Congratulations! You've guessed the number {target_number} in {attempts} attempts.\")\n",
        "        elif guessed_number < target_number:\n",
        "            print(\"Try a higher number.\")\n",
        "        else:\n",
        "            print(\"Try a lower number.\")\n",
        "    except ValueError:\n",
        "        print(\"Invalid input. Please enter a valid number.\")\n"
      ],
      "metadata": {
        "colab": {
          "base_uri": "https://localhost:8080/"
        },
        "id": "HnDJmOJEEl0U",
        "outputId": "28b1a3ef-dcba-43df-ca8a-3a30c41b144b"
      },
      "execution_count": null,
      "outputs": [
        {
          "output_type": "stream",
          "name": "stdout",
          "text": [
            "Welcome to the Number Guessing Game!\n",
            "I've chosen a number between 1 and 100. Try to guess it.\n"
          ]
        }
      ]
    }
  ]
}