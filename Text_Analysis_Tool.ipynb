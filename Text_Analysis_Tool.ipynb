{
  "nbformat": 4,
  "nbformat_minor": 0,
  "metadata": {
    "colab": {
      "provenance": [],
      "authorship_tag": "ABX9TyMHrJLD9q4dH/tz+qcRmexo",
      "include_colab_link": true
    },
    "kernelspec": {
      "name": "python3",
      "display_name": "Python 3"
    },
    "language_info": {
      "name": "python"
    }
  },
  "cells": [
    {
      "cell_type": "markdown",
      "metadata": {
        "id": "view-in-github",
        "colab_type": "text"
      },
      "source": [
        "<a href=\"https://colab.research.google.com/github/KatiaGodinez/Artificial_Intelligence/blob/main/Text_Analysis_Tool.ipynb\" target=\"_parent\"><img src=\"https://colab.research.google.com/assets/colab-badge.svg\" alt=\"Open In Colab\"/></a>"
      ]
    },
    {
      "cell_type": "code",
      "execution_count": 3,
      "metadata": {
        "id": "WFZjymiVFQ4s"
      },
      "outputs": [],
      "source": [
        "import re\n",
        "from collections import Counter"
      ]
    },
    {
      "cell_type": "code",
      "source": [
        "\n",
        "def read_text_file(filename):\n",
        "    try:\n",
        "        with open(filename, 'r', encoding='utf-8') as file:\n",
        "            text = file.read()\n",
        "        return text\n",
        "    except FileNotFoundError:\n",
        "        print(f\"File '{filename}' not found.\")\n",
        "        return None\n"
      ],
      "metadata": {
        "id": "04c-zAuvJJu1"
      },
      "execution_count": 4,
      "outputs": []
    },
    {
      "cell_type": "code",
      "source": [
        "\n",
        "def count_words(text):\n",
        "    words = re.findall(r'\\b\\w+\\b', text)\n",
        "    return len(words)\n"
      ],
      "metadata": {
        "id": "XOrCxnj_JNNi"
      },
      "execution_count": 5,
      "outputs": []
    },
    {
      "cell_type": "code",
      "source": [
        "\n",
        "def count_sentences(text):\n",
        "    sentences = re.split(r'[.!?]', text)\n",
        "    return len(sentences)\n",
        "\n"
      ],
      "metadata": {
        "id": "UD74xKq5JPd0"
      },
      "execution_count": 6,
      "outputs": []
    },
    {
      "cell_type": "code",
      "source": [
        "def count_paragraphs(text):\n",
        "    paragraphs = re.split(r'\\n\\s*\\n', text)\n",
        "    return len(paragraphs)\n"
      ],
      "metadata": {
        "id": "78yH3KvhJRth"
      },
      "execution_count": 7,
      "outputs": []
    },
    {
      "cell_type": "code",
      "source": [
        "\n",
        "def average_word_length(text):\n",
        "    words = re.findall(r'\\b\\w+\\b', text)\n",
        "    total_length = sum(len(word) for word in words)\n",
        "    return total_length / len(words) if len(words) > 0 else 0\n"
      ],
      "metadata": {
        "id": "QhHntEZrJTay"
      },
      "execution_count": 8,
      "outputs": []
    },
    {
      "cell_type": "code",
      "source": [
        "\n",
        "def most_common_words(text, n=10):\n",
        "    words = re.findall(r'\\b\\w+\\b', text.lower())\n",
        "    word_counts = Counter(words)\n",
        "    return word_counts.most_common(n)\n"
      ],
      "metadata": {
        "id": "PEuHoClDJVI_"
      },
      "execution_count": 9,
      "outputs": []
    },
    {
      "cell_type": "code",
      "source": [
        "\n",
        "if __name__ == \"__main__\":\n",
        "    filename = input(\"Enter the name of the text file: \")\n",
        "    text = read_text_file(filename)\n",
        "\n",
        "    if text:\n",
        "        num_words = count_words(text)\n",
        "        num_sentences = count_sentences(text)\n",
        "        num_paragraphs = count_paragraphs(text)\n",
        "        avg_word_length = average_word_length(text)\n",
        "        common_words = most_common_words(text)\n",
        "\n",
        "        print(f\"Number of words: {num_words}\")\n",
        "        print(f\"Number of sentences: {num_sentences}\")\n",
        "        print(f\"Number of paragraphs: {num_paragraphs}\")\n",
        "        print(f\"Average word length: {avg_word_length:.2f}\")\n",
        "        print(\"\\nMost common words:\")\n",
        "        for word, count in common_words:\n",
        "            print(f\"{word}: {count}\")\n"
      ],
      "metadata": {
        "id": "2f3h0-Z3JXKK"
      },
      "execution_count": null,
      "outputs": []
    }
  ]
}